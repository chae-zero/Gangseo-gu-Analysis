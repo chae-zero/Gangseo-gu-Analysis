{
 "cells": [
  {
   "cell_type": "code",
   "execution_count": null,
   "metadata": {},
   "outputs": [],
   "source": []
  },
  {
   "cell_type": "code",
   "execution_count": null,
   "metadata": {},
   "outputs": [],
   "source": [
    "folder_name = '건물'\n",
    "file_name = 'GIS건물통합정보_강서구'\n",
    "\n",
    "bd_df_origin = pd.read_excel(f'../../data/{folder_name}/{file_name}.xlsx', engine='openpyxl')"
   ]
  }
 ],
 "metadata": {
  "language_info": {
   "name": "python"
  },
  "orig_nbformat": 4
 },
 "nbformat": 4,
 "nbformat_minor": 2
}
