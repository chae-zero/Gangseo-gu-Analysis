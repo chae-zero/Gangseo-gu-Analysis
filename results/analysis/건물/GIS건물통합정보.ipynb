{
 "cells": [
  {
   "cell_type": "markdown",
   "metadata": {},
   "source": [
    "# 모듈 불러오기"
   ]
  },
  {
   "cell_type": "markdown",
   "metadata": {},
   "source": [
    "#### 기본"
   ]
  },
  {
   "cell_type": "code",
   "execution_count": 1,
   "metadata": {},
   "outputs": [],
   "source": [
    "import numpy as np\n",
    "import pandas as pd\n",
    "import joblib"
   ]
  },
  {
   "cell_type": "code",
   "execution_count": 2,
   "metadata": {},
   "outputs": [],
   "source": [
    "# !conda install numpy \n",
    "# !conda install pandas\n",
    "# !conda install scikit-learn\n",
    "# !conda install scipy\n",
    "# !conda install tensorflow\n",
    "# !conda install matplotlib\n",
    "# !conda install seaborn\n",
    "\n",
    "# !pip install xgboost\n",
    "# !pip install lightgbm\n",
    "# !pip install catboost\n",
    "# !pip install ipywidgets\n",
    "# !jupyter nbextension enable --py widgetsnbextension\n",
    "# !pip install hyperopt\n",
    "# !pip install -U imbalanced-learn\n",
    "# !pip install missingno"
   ]
  },
  {
   "cell_type": "markdown",
   "metadata": {},
   "source": [
    "#### 전처리"
   ]
  },
  {
   "cell_type": "code",
   "execution_count": 3,
   "metadata": {},
   "outputs": [],
   "source": [
    "from sklearn.model_selection import train_test_split\n",
    "from sklearn.inspection import permutation_importance\n",
    "\n",
    "from sklearn import impute\n",
    "from sklearn.impute import KNNImputer\n",
    "from sklearn.experimental import enable_iterative_imputer"
   ]
  },
  {
   "cell_type": "markdown",
   "metadata": {},
   "source": [
    "#### 리샘플링"
   ]
  },
  {
   "cell_type": "code",
   "execution_count": 4,
   "metadata": {},
   "outputs": [],
   "source": [
    "from imblearn.over_sampling import (\n",
    "    RandomOverSampler, \n",
    "    ADASYN, \n",
    "    SMOTE\n",
    ")\n",
    "from imblearn.under_sampling import (\n",
    "    RandomUnderSampler, \n",
    "    TomekLinks, \n",
    "    CondensedNearestNeighbour, \n",
    "    OneSidedSelection, \n",
    "    EditedNearestNeighbours, \n",
    "    NeighbourhoodCleaningRule\n",
    ")"
   ]
  },
  {
   "cell_type": "markdown",
   "metadata": {},
   "source": [
    "#### 분석"
   ]
  },
  {
   "cell_type": "code",
   "execution_count": 5,
   "metadata": {},
   "outputs": [],
   "source": [
    "from scipy.stats import skew, kurtosis\n",
    "from scipy.stats import ttest_ind, f_oneway, pearsonr"
   ]
  },
  {
   "cell_type": "markdown",
   "metadata": {},
   "source": [
    "#### 회귀"
   ]
  },
  {
   "cell_type": "code",
   "execution_count": 6,
   "metadata": {},
   "outputs": [],
   "source": [
    "from sklearn.linear_model import LinearRegression as RL\n",
    "from sklearn.neighbors import KNeighborsRegressor as KNNR\n",
    "from sklearn.tree import DecisionTreeRegressor as DTR\n",
    "from sklearn.svm import SVR\n",
    "from sklearn.ensemble import RandomForestRegressor as RFR\n",
    "from xgboost import XGBRegressor as XGBR\n",
    "from lightgbm import LGBMRegressor as LGBMR\n",
    "from catboost import CatBoostRegressor as CBR\n",
    "\n",
    "from lightgbm import plot_importance as lgbm_plot_importance\n",
    "from xgboost import plot_importance as xgb_plot_importance\n",
    "from catboost import Pool\n",
    "\n",
    "from sklearn.metrics import mean_squared_error as mse\n",
    "from sklearn.metrics import r2_score"
   ]
  },
  {
   "cell_type": "markdown",
   "metadata": {},
   "source": [
    "#### 분류"
   ]
  },
  {
   "cell_type": "code",
   "execution_count": 7,
   "metadata": {},
   "outputs": [],
   "source": [
    "from sklearn.linear_model import LogisticRegression as LR\n",
    "from sklearn.neighbors import KNeighborsClassifier as KNNC\n",
    "from sklearn.tree import DecisionTreeClassifier as DTC\n",
    "from sklearn.svm import SVC\n",
    "from sklearn.ensemble import RandomForestClassifier as RFC\n",
    "from xgboost import XGBClassifier as XGBC\n",
    "from lightgbm import LGBMClassifier as LGBMC\n",
    "from catboost import CatBoostClassifier as CBC\n",
    "\n",
    "from sklearn.metrics import confusion_matrix as cmatrix\n",
    "from sklearn.metrics import classification_report as creport\n",
    "from sklearn.metrics import recall_score as recall\n",
    "from sklearn.metrics import accuracy_score as acc\n",
    "from sklearn.metrics import f1_score\n",
    "from sklearn.metrics import roc_auc_score\n",
    "from sklearn.metrics import make_scorer"
   ]
  },
  {
   "cell_type": "markdown",
   "metadata": {},
   "source": [
    "#### 교차검증"
   ]
  },
  {
   "cell_type": "code",
   "execution_count": 8,
   "metadata": {},
   "outputs": [],
   "source": [
    "from sklearn.tree import DecisionTreeClassifier\n",
    "from sklearn.model_selection import cross_val_score\n",
    "from sklearn.model_selection import GridSearchCV, RandomizedSearchCV\n",
    "from catboost import cv\n",
    "import hyperopt\n",
    "\n",
    "from sklearn.model_selection import (\n",
    "    StratifiedKFold, # 분류\n",
    "    KFold, # 회귀\n",
    "    # GroupKFold, \n",
    "    # RepeatedKFold, \n",
    "    # StratifiedGroupKFold, \n",
    "    # RepeatedStratifiedKFold\n",
    ")"
   ]
  },
  {
   "cell_type": "markdown",
   "metadata": {},
   "source": [
    "#### 시각화"
   ]
  },
  {
   "cell_type": "code",
   "execution_count": 9,
   "metadata": {},
   "outputs": [],
   "source": [
    "import matplotlib.pyplot as plt\n",
    "import seaborn as sns\n",
    "%matplotlib inline\n",
    "plt.rc('font', family='Malgun Gothic')\n",
    "sns.set(font=\"Malgun Gothic\",\n",
    "        rc={\"axes.unicode_minus\":False}, # 마이너스 부호 깨짐 현상 해결\n",
    "        style='darkgrid')  \n",
    "\n",
    "import warnings\n",
    "warnings.filterwarnings(action='ignore')\n",
    "%config InlineBackend.figure_format = 'retina'"
   ]
  },
  {
   "cell_type": "markdown",
   "metadata": {},
   "source": [
    "# 데이터 로드"
   ]
  },
  {
   "cell_type": "code",
   "execution_count": 10,
   "metadata": {},
   "outputs": [],
   "source": [
    "folder_name = '건물'\n",
    "file_name = 'GIS건물통합정보_fix'\n",
    "\n",
    "df_all_origin = pd.read_excel(f'./data/{folder_name}/{file_name}.xlsx', engine='openpyxl')"
   ]
  },
  {
   "cell_type": "code",
   "execution_count": 11,
   "metadata": {},
   "outputs": [],
   "source": [
    "folder_name = '건물'\n",
    "file_name = 'GIS건물통합정보_강서구'\n",
    "\n",
    "df_origin = pd.read_excel(f'./data/{folder_name}/{file_name}.xlsx', engine='openpyxl')"
   ]
  },
  {
   "cell_type": "code",
   "execution_count": 12,
   "metadata": {},
   "outputs": [],
   "source": [
    "df = df_origin.copy()"
   ]
  },
  {
   "cell_type": "markdown",
   "metadata": {},
   "source": [
    "# 데이터 이해"
   ]
  },
  {
   "cell_type": "code",
   "execution_count": 15,
   "metadata": {},
   "outputs": [
    {
     "name": "stdout",
     "output_type": "stream",
     "text": [
      "<class 'pandas.core.frame.DataFrame'>\n",
      "RangeIndex: 667455 entries, 0 to 667454\n",
      "Data columns (total 11 columns):\n",
      " #   Column  Non-Null Count   Dtype  \n",
      "---  ------  --------------   -----  \n",
      " 0   법정동명    667455 non-null  object \n",
      " 1   지번      667455 non-null  object \n",
      " 2   용도명     539521 non-null  object \n",
      " 3   구조명     539288 non-null  object \n",
      " 4   면적      667455 non-null  float64\n",
      " 5   사용승인일자  538243 non-null  object \n",
      " 6   연면적     667455 non-null  float64\n",
      " 7   대지면적    667455 non-null  float64\n",
      " 8   높이      667455 non-null  float64\n",
      " 9   건폐율     667455 non-null  float64\n",
      " 10  용적율     667455 non-null  float64\n",
      "dtypes: float64(6), object(5)\n",
      "memory usage: 56.0+ MB\n"
     ]
    }
   ],
   "source": [
    "df_all_origin.info()"
   ]
  },
  {
   "cell_type": "code",
   "execution_count": 16,
   "metadata": {},
   "outputs": [
    {
     "data": {
      "text/plain": [
       "법정동명           0\n",
       "지번             0\n",
       "용도명       127934\n",
       "구조명       128167\n",
       "면적             0\n",
       "사용승인일자    129212\n",
       "연면적            0\n",
       "대지면적           0\n",
       "높이             0\n",
       "건폐율            0\n",
       "용적율            0\n",
       "dtype: int64"
      ]
     },
     "execution_count": 16,
     "metadata": {},
     "output_type": "execute_result"
    }
   ],
   "source": [
    "df_all_origin.isna().sum()"
   ]
  },
  {
   "cell_type": "code",
   "execution_count": 13,
   "metadata": {},
   "outputs": [
    {
     "name": "stdout",
     "output_type": "stream",
     "text": [
      "<class 'pandas.core.frame.DataFrame'>\n",
      "RangeIndex: 28900 entries, 0 to 28899\n",
      "Data columns (total 11 columns):\n",
      " #   Column  Non-Null Count  Dtype         \n",
      "---  ------  --------------  -----         \n",
      " 0   법정동명    28900 non-null  object        \n",
      " 1   지번      28900 non-null  object        \n",
      " 2   용도명     28900 non-null  object        \n",
      " 3   구조명     28900 non-null  object        \n",
      " 4   면적      28900 non-null  float64       \n",
      " 5   사용승인일자  28900 non-null  datetime64[ns]\n",
      " 6   연면적     28900 non-null  float64       \n",
      " 7   대지면적    28900 non-null  float64       \n",
      " 8   높이      28900 non-null  float64       \n",
      " 9   건폐율     28900 non-null  float64       \n",
      " 10  용적율     28900 non-null  float64       \n",
      "dtypes: datetime64[ns](1), float64(6), object(4)\n",
      "memory usage: 2.4+ MB\n"
     ]
    }
   ],
   "source": [
    "df.info()"
   ]
  },
  {
   "cell_type": "code",
   "execution_count": 14,
   "metadata": {},
   "outputs": [
    {
     "data": {
      "text/plain": [
       "법정동명      0\n",
       "지번        0\n",
       "용도명       0\n",
       "구조명       0\n",
       "면적        0\n",
       "사용승인일자    0\n",
       "연면적       0\n",
       "대지면적      0\n",
       "높이        0\n",
       "건폐율       0\n",
       "용적율       0\n",
       "dtype: int64"
      ]
     },
     "execution_count": 14,
     "metadata": {},
     "output_type": "execute_result"
    }
   ],
   "source": [
    "df.isna().sum()"
   ]
  },
  {
   "attachments": {},
   "cell_type": "markdown",
   "metadata": {},
   "source": [
    "# 동별 노후도"
   ]
  },
  {
   "cell_type": "code",
   "execution_count": 29,
   "metadata": {},
   "outputs": [
    {
     "data": {
      "text/plain": [
       "0        1900\n",
       "1        1900\n",
       "2        1900\n",
       "3        1900\n",
       "4        1900\n",
       "         ... \n",
       "28895    1900\n",
       "28896    1992\n",
       "28897    1992\n",
       "28898    1979\n",
       "28899    1900\n",
       "Name: 사용승인일자, Length: 28900, dtype: int64"
      ]
     },
     "execution_count": 29,
     "metadata": {},
     "output_type": "execute_result"
    }
   ],
   "source": [
    "df['사용승인일자'] = df['사용승인일자'].str.slice(0, -1)"
   ]
  },
  {
   "cell_type": "code",
   "execution_count": 23,
   "metadata": {},
   "outputs": [],
   "source": [
    "df['사용승인년도'] = df['사용승인일자'].dt.year"
   ]
  },
  {
   "cell_type": "code",
   "execution_count": 24,
   "metadata": {},
   "outputs": [],
   "source": [
    "# folder_name = '건물'\n",
    "# file_name = 'GIS건물통합정보_강서구'\n",
    "# df.to_excel(f'./data/{folder_name}/{file_name}.xlsx', engine='openpyxl')"
   ]
  },
  {
   "cell_type": "code",
   "execution_count": 25,
   "metadata": {},
   "outputs": [],
   "source": [
    "group_df = df.groupby(by=['법정동명'], as_index=False)['사용승인년도'].value_counts()"
   ]
  },
  {
   "cell_type": "code",
   "execution_count": 30,
   "metadata": {},
   "outputs": [
    {
     "data": {
      "text/html": [
       "<div>\n",
       "<style scoped>\n",
       "    .dataframe tbody tr th:only-of-type {\n",
       "        vertical-align: middle;\n",
       "    }\n",
       "\n",
       "    .dataframe tbody tr th {\n",
       "        vertical-align: top;\n",
       "    }\n",
       "\n",
       "    .dataframe thead th {\n",
       "        text-align: right;\n",
       "    }\n",
       "</style>\n",
       "<table border=\"1\" class=\"dataframe\">\n",
       "  <thead>\n",
       "    <tr style=\"text-align: right;\">\n",
       "      <th></th>\n",
       "      <th>법정동명</th>\n",
       "      <th>사용승인년도</th>\n",
       "      <th>count</th>\n",
       "    </tr>\n",
       "  </thead>\n",
       "  <tbody>\n",
       "    <tr>\n",
       "      <th>0</th>\n",
       "      <td>서울특별시 강서구 가양동</td>\n",
       "      <td>1900</td>\n",
       "      <td>333</td>\n",
       "    </tr>\n",
       "    <tr>\n",
       "      <th>1</th>\n",
       "      <td>서울특별시 강서구 가양동</td>\n",
       "      <td>1992</td>\n",
       "      <td>123</td>\n",
       "    </tr>\n",
       "    <tr>\n",
       "      <th>2</th>\n",
       "      <td>서울특별시 강서구 가양동</td>\n",
       "      <td>1993</td>\n",
       "      <td>81</td>\n",
       "    </tr>\n",
       "    <tr>\n",
       "      <th>3</th>\n",
       "      <td>서울특별시 강서구 가양동</td>\n",
       "      <td>1999</td>\n",
       "      <td>29</td>\n",
       "    </tr>\n",
       "    <tr>\n",
       "      <th>4</th>\n",
       "      <td>서울특별시 강서구 가양동</td>\n",
       "      <td>1995</td>\n",
       "      <td>25</td>\n",
       "    </tr>\n",
       "    <tr>\n",
       "      <th>...</th>\n",
       "      <td>...</td>\n",
       "      <td>...</td>\n",
       "      <td>...</td>\n",
       "    </tr>\n",
       "    <tr>\n",
       "      <th>502</th>\n",
       "      <td>서울특별시 강서구 화곡동</td>\n",
       "      <td>1968</td>\n",
       "      <td>43</td>\n",
       "    </tr>\n",
       "    <tr>\n",
       "      <th>503</th>\n",
       "      <td>서울특별시 강서구 화곡동</td>\n",
       "      <td>1967</td>\n",
       "      <td>20</td>\n",
       "    </tr>\n",
       "    <tr>\n",
       "      <th>504</th>\n",
       "      <td>서울특별시 강서구 화곡동</td>\n",
       "      <td>1966</td>\n",
       "      <td>4</td>\n",
       "    </tr>\n",
       "    <tr>\n",
       "      <th>505</th>\n",
       "      <td>서울특별시 강서구 화곡동</td>\n",
       "      <td>1959</td>\n",
       "      <td>1</td>\n",
       "    </tr>\n",
       "    <tr>\n",
       "      <th>506</th>\n",
       "      <td>서울특별시 강서구 화곡동</td>\n",
       "      <td>1961</td>\n",
       "      <td>1</td>\n",
       "    </tr>\n",
       "  </tbody>\n",
       "</table>\n",
       "<p>507 rows × 3 columns</p>\n",
       "</div>"
      ],
      "text/plain": [
       "              법정동명  사용승인년도  count\n",
       "0    서울특별시 강서구 가양동    1900    333\n",
       "1    서울특별시 강서구 가양동    1992    123\n",
       "2    서울특별시 강서구 가양동    1993     81\n",
       "3    서울특별시 강서구 가양동    1999     29\n",
       "4    서울특별시 강서구 가양동    1995     25\n",
       "..             ...     ...    ...\n",
       "502  서울특별시 강서구 화곡동    1968     43\n",
       "503  서울특별시 강서구 화곡동    1967     20\n",
       "504  서울특별시 강서구 화곡동    1966      4\n",
       "505  서울특별시 강서구 화곡동    1959      1\n",
       "506  서울특별시 강서구 화곡동    1961      1\n",
       "\n",
       "[507 rows x 3 columns]"
      ]
     },
     "execution_count": 30,
     "metadata": {},
     "output_type": "execute_result"
    }
   ],
   "source": [
    "group_df"
   ]
  }
 ],
 "metadata": {
  "kernelspec": {
   "display_name": "aivle",
   "language": "python",
   "name": "aivle"
  },
  "language_info": {
   "codemirror_mode": {
    "name": "ipython",
    "version": 3
   },
   "file_extension": ".py",
   "mimetype": "text/x-python",
   "name": "python",
   "nbconvert_exporter": "python",
   "pygments_lexer": "ipython3",
   "version": "3.9.15"
  },
  "orig_nbformat": 4
 },
 "nbformat": 4,
 "nbformat_minor": 2
}
