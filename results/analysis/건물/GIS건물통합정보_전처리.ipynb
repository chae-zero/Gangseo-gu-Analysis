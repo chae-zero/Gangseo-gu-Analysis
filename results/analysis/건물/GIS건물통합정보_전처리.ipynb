{
 "cells": [
  {
   "cell_type": "markdown",
   "metadata": {},
   "source": [
    "# 모듈 불러오기"
   ]
  },
  {
   "cell_type": "markdown",
   "metadata": {},
   "source": [
    "#### 기본"
   ]
  },
  {
   "cell_type": "code",
   "execution_count": 1,
   "metadata": {},
   "outputs": [],
   "source": [
    "import numpy as np\n",
    "import pandas as pd\n",
    "import joblib"
   ]
  },
  {
   "cell_type": "code",
   "execution_count": 2,
   "metadata": {},
   "outputs": [],
   "source": [
    "# !conda install numpy \n",
    "# !conda install pandas\n",
    "# !conda install scikit-learn\n",
    "# !conda install scipy\n",
    "# !conda install tensorflow\n",
    "# !conda install matplotlib\n",
    "# !conda install seaborn\n",
    "\n",
    "# !pip install xgboost\n",
    "# !pip install lightgbm\n",
    "# !pip install catboost\n",
    "# !pip install ipywidgets\n",
    "# !jupyter nbextension enable --py widgetsnbextension\n",
    "# !pip install hyperopt\n",
    "# !pip install -U imbalanced-learn\n",
    "# !pip install missingno"
   ]
  },
  {
   "cell_type": "markdown",
   "metadata": {},
   "source": [
    "#### 전처리"
   ]
  },
  {
   "cell_type": "code",
   "execution_count": 3,
   "metadata": {},
   "outputs": [],
   "source": [
    "from sklearn.model_selection import train_test_split\n",
    "from sklearn.inspection import permutation_importance\n",
    "\n",
    "from sklearn import impute\n",
    "from sklearn.impute import KNNImputer\n",
    "from sklearn.experimental import enable_iterative_imputer"
   ]
  },
  {
   "cell_type": "markdown",
   "metadata": {},
   "source": [
    "#### 리샘플링"
   ]
  },
  {
   "cell_type": "code",
   "execution_count": 4,
   "metadata": {},
   "outputs": [],
   "source": [
    "from imblearn.over_sampling import (\n",
    "    RandomOverSampler, \n",
    "    ADASYN, \n",
    "    SMOTE\n",
    ")\n",
    "from imblearn.under_sampling import (\n",
    "    RandomUnderSampler, \n",
    "    TomekLinks, \n",
    "    CondensedNearestNeighbour, \n",
    "    OneSidedSelection, \n",
    "    EditedNearestNeighbours, \n",
    "    NeighbourhoodCleaningRule\n",
    ")"
   ]
  },
  {
   "cell_type": "markdown",
   "metadata": {},
   "source": [
    "#### 분석"
   ]
  },
  {
   "cell_type": "code",
   "execution_count": 5,
   "metadata": {},
   "outputs": [],
   "source": [
    "from scipy.stats import skew, kurtosis\n",
    "from scipy.stats import ttest_ind, f_oneway, pearsonr"
   ]
  },
  {
   "cell_type": "markdown",
   "metadata": {},
   "source": [
    "#### 회귀"
   ]
  },
  {
   "cell_type": "code",
   "execution_count": 6,
   "metadata": {},
   "outputs": [],
   "source": [
    "from sklearn.linear_model import LinearRegression as RL\n",
    "from sklearn.neighbors import KNeighborsRegressor as KNNR\n",
    "from sklearn.tree import DecisionTreeRegressor as DTR\n",
    "from sklearn.svm import SVR\n",
    "from sklearn.ensemble import RandomForestRegressor as RFR\n",
    "from xgboost import XGBRegressor as XGBR\n",
    "from lightgbm import LGBMRegressor as LGBMR\n",
    "from catboost import CatBoostRegressor as CBR\n",
    "\n",
    "from lightgbm import plot_importance as lgbm_plot_importance\n",
    "from xgboost import plot_importance as xgb_plot_importance\n",
    "from catboost import Pool\n",
    "\n",
    "from sklearn.metrics import mean_squared_error as mse\n",
    "from sklearn.metrics import r2_score"
   ]
  },
  {
   "cell_type": "markdown",
   "metadata": {},
   "source": [
    "#### 분류"
   ]
  },
  {
   "cell_type": "code",
   "execution_count": 7,
   "metadata": {},
   "outputs": [],
   "source": [
    "from sklearn.linear_model import LogisticRegression as LR\n",
    "from sklearn.neighbors import KNeighborsClassifier as KNNC\n",
    "from sklearn.tree import DecisionTreeClassifier as DTC\n",
    "from sklearn.svm import SVC\n",
    "from sklearn.ensemble import RandomForestClassifier as RFC\n",
    "from xgboost import XGBClassifier as XGBC\n",
    "from lightgbm import LGBMClassifier as LGBMC\n",
    "from catboost import CatBoostClassifier as CBC\n",
    "\n",
    "from sklearn.metrics import confusion_matrix as cmatrix\n",
    "from sklearn.metrics import classification_report as creport\n",
    "from sklearn.metrics import recall_score as recall\n",
    "from sklearn.metrics import accuracy_score as acc\n",
    "from sklearn.metrics import f1_score\n",
    "from sklearn.metrics import roc_auc_score\n",
    "from sklearn.metrics import make_scorer"
   ]
  },
  {
   "cell_type": "markdown",
   "metadata": {},
   "source": [
    "#### 교차검증"
   ]
  },
  {
   "cell_type": "code",
   "execution_count": 8,
   "metadata": {},
   "outputs": [],
   "source": [
    "from sklearn.tree import DecisionTreeClassifier\n",
    "from sklearn.model_selection import cross_val_score\n",
    "from sklearn.model_selection import GridSearchCV, RandomizedSearchCV\n",
    "from catboost import cv\n",
    "import hyperopt\n",
    "\n",
    "from sklearn.model_selection import (\n",
    "    StratifiedKFold, # 분류\n",
    "    KFold, # 회귀\n",
    "    # GroupKFold, \n",
    "    # RepeatedKFold, \n",
    "    # StratifiedGroupKFold, \n",
    "    # RepeatedStratifiedKFold\n",
    ")"
   ]
  },
  {
   "cell_type": "markdown",
   "metadata": {},
   "source": [
    "#### 시각화"
   ]
  },
  {
   "cell_type": "code",
   "execution_count": 9,
   "metadata": {},
   "outputs": [],
   "source": [
    "import matplotlib.pyplot as plt\n",
    "import seaborn as sns\n",
    "%matplotlib inline\n",
    "plt.rc('font', family='Malgun Gothic')\n",
    "sns.set(font=\"Malgun Gothic\",\n",
    "        rc={\"axes.unicode_minus\":False}, # 마이너스 부호 깨짐 현상 해결\n",
    "        style='darkgrid')  \n",
    "\n",
    "import warnings\n",
    "warnings.filterwarnings(action='ignore')\n",
    "%config InlineBackend.figure_format = 'retina'"
   ]
  },
  {
   "cell_type": "markdown",
   "metadata": {},
   "source": [
    "# 데이터 로드"
   ]
  },
  {
   "cell_type": "code",
   "execution_count": 10,
   "metadata": {},
   "outputs": [],
   "source": [
    "folder_name = '건물'\n",
    "file_name = 'GIS건물통합정보_fix'\n",
    "\n",
    "df_all_origin = pd.read_excel(f'./data/{folder_name}/{file_name}.xlsx', engine='openpyxl')"
   ]
  },
  {
   "cell_type": "code",
   "execution_count": 11,
   "metadata": {},
   "outputs": [],
   "source": [
    "folder_name = '건물'\n",
    "file_name = 'GIS건물통합정보_강서구'\n",
    "\n",
    "df_origin = pd.read_excel(f'./data/{folder_name}/{file_name}.xlsx', engine='openpyxl')"
   ]
  },
  {
   "cell_type": "code",
   "execution_count": 12,
   "metadata": {},
   "outputs": [],
   "source": [
    "df = df_origin.copy()"
   ]
  },
  {
   "cell_type": "markdown",
   "metadata": {},
   "source": [
    "# 데이터 이해"
   ]
  },
  {
   "cell_type": "code",
   "execution_count": 13,
   "metadata": {},
   "outputs": [
    {
     "name": "stdout",
     "output_type": "stream",
     "text": [
      "<class 'pandas.core.frame.DataFrame'>\n",
      "RangeIndex: 28900 entries, 0 to 28899\n",
      "Data columns (total 13 columns):\n",
      " #   Column      Non-Null Count  Dtype         \n",
      "---  ------      --------------  -----         \n",
      " 0   Unnamed: 0  28900 non-null  int64         \n",
      " 1   법정동명        28900 non-null  object        \n",
      " 2   지번          28900 non-null  object        \n",
      " 3   용도명         28900 non-null  object        \n",
      " 4   구조명         28900 non-null  object        \n",
      " 5   면적          28900 non-null  float64       \n",
      " 6   사용승인일자      28900 non-null  datetime64[ns]\n",
      " 7   연면적         28900 non-null  float64       \n",
      " 8   대지면적        28900 non-null  float64       \n",
      " 9   높이          28900 non-null  float64       \n",
      " 10  건폐율         28900 non-null  float64       \n",
      " 11  용적율         28900 non-null  float64       \n",
      " 12  사용승인년도      28900 non-null  int64         \n",
      "dtypes: datetime64[ns](1), float64(6), int64(2), object(4)\n",
      "memory usage: 2.9+ MB\n"
     ]
    }
   ],
   "source": [
    "df.info()"
   ]
  },
  {
   "cell_type": "code",
   "execution_count": 14,
   "metadata": {},
   "outputs": [
    {
     "data": {
      "text/plain": [
       "Unnamed: 0    0\n",
       "법정동명          0\n",
       "지번            0\n",
       "용도명           0\n",
       "구조명           0\n",
       "면적            0\n",
       "사용승인일자        0\n",
       "연면적           0\n",
       "대지면적          0\n",
       "높이            0\n",
       "건폐율           0\n",
       "용적율           0\n",
       "사용승인년도        0\n",
       "dtype: int64"
      ]
     },
     "execution_count": 14,
     "metadata": {},
     "output_type": "execute_result"
    }
   ],
   "source": [
    "df.isna().sum()"
   ]
  },
  {
   "attachments": {},
   "cell_type": "markdown",
   "metadata": {},
   "source": [
    "# 전처리"
   ]
  },
  {
   "cell_type": "code",
   "execution_count": null,
   "metadata": {},
   "outputs": [],
   "source": [
    "drop_col = [\n",
    "    'A0',\n",
    "    'A1',\n",
    "    'A2',\n",
    "    'A3',\n",
    "    'A6',\n",
    "    'A7',\n",
    "    'A8',\n",
    "    'A10',\n",
    "    'A19',\n",
    "    'A20',\n",
    "    'A21',\n",
    "    'A22',\n",
    "]\n",
    "\n",
    "df.drop(drop_col, axis=1, inplace=True)"
   ]
  },
  {
   "cell_type": "code",
   "execution_count": null,
   "metadata": {},
   "outputs": [],
   "source": [
    "rename_col = {\n",
    " 'A4': '법정동명', \n",
    " 'A5': '지번', \n",
    " 'A9': '용도명', \n",
    " 'A11': '구조명',\n",
    " 'A12': '면적',\n",
    " 'A13': '사용승인일자',\n",
    " 'A14': '연면적',\n",
    " 'A15': '대지면적',\n",
    " 'A16': '높이',\n",
    " 'A17': '건폐율',\n",
    " 'A18': '용적율',\n",
    "}\n",
    "\n",
    "df.rename(rename_col, axis=1, inplace=True)"
   ]
  },
  {
   "cell_type": "code",
   "execution_count": null,
   "metadata": {},
   "outputs": [],
   "source": [
    "folder_name = '건물'\n",
    "file_name = 'GIS건물통합정보'\n",
    "\n",
    "df.to_excel(f'./data/{folder_name}/{file_name}_fix.xlsx', index=False, engine='openpyxl')"
   ]
  },
  {
   "cell_type": "code",
   "execution_count": null,
   "metadata": {},
   "outputs": [],
   "source": [
    "gangeo_df = df.loc[df['법정동명'].str.contains('강서구'), :]"
   ]
  },
  {
   "cell_type": "code",
   "execution_count": null,
   "metadata": {},
   "outputs": [],
   "source": [
    "gangeo_df.reset_index(drop=True, inplace=True)"
   ]
  },
  {
   "cell_type": "code",
   "execution_count": null,
   "metadata": {},
   "outputs": [
    {
     "data": {
      "text/plain": [
       "법정동명      28900\n",
       "지번        28900\n",
       "용도명       23605\n",
       "구조명       23604\n",
       "면적        28900\n",
       "사용승인일자    24092\n",
       "연면적       28900\n",
       "대지면적      28900\n",
       "높이        28900\n",
       "건폐율       28900\n",
       "용적율       28900\n",
       "dtype: int64"
      ]
     },
     "execution_count": 67,
     "metadata": {},
     "output_type": "execute_result"
    }
   ],
   "source": [
    "gangseo_count = gangeo_df.count()\n",
    "gangseo_count"
   ]
  },
  {
   "cell_type": "code",
   "execution_count": null,
   "metadata": {},
   "outputs": [
    {
     "data": {
      "text/plain": [
       "법정동명      0\n",
       "지번        0\n",
       "용도명       0\n",
       "구조명       0\n",
       "면적        0\n",
       "사용승인일자    0\n",
       "연면적       0\n",
       "대지면적      0\n",
       "높이        0\n",
       "건폐율       0\n",
       "용적율       0\n",
       "dtype: int64"
      ]
     },
     "execution_count": 71,
     "metadata": {},
     "output_type": "execute_result"
    }
   ],
   "source": [
    "gangseo_isna = gangeo_df.isna().sum()\n",
    "gangseo_isna"
   ]
  },
  {
   "cell_type": "code",
   "execution_count": null,
   "metadata": {},
   "outputs": [],
   "source": [
    "gangeo_df['용도명'].fillna('미상', inplace=True)\n",
    "gangeo_df['구조명'].fillna('미상', inplace=True)\n",
    "gangeo_df['사용승인일자'].fillna('1900-01-01', inplace=True)"
   ]
  },
  {
   "cell_type": "code",
   "execution_count": null,
   "metadata": {},
   "outputs": [],
   "source": [
    "gangeo_df.loc[gangeo_df['사용승인일자'].str.contains('200205'), '사용승인일자'] = '2002-05-01'"
   ]
  },
  {
   "cell_type": "code",
   "execution_count": null,
   "metadata": {},
   "outputs": [],
   "source": [
    "gangeo_df.loc[gangeo_df['사용승인일자'].str.contains('199710'), '사용승인일자'] = '1997-10-01'"
   ]
  },
  {
   "cell_type": "code",
   "execution_count": null,
   "metadata": {},
   "outputs": [],
   "source": [
    "gangeo_df.loc[gangeo_df['사용승인일자'].str.contains('200212'), '사용승인일자'] = '2002-12-01'"
   ]
  },
  {
   "cell_type": "code",
   "execution_count": null,
   "metadata": {},
   "outputs": [],
   "source": [
    "gangeo_df.loc[gangeo_df['사용승인일자'].str.len() < 5, '사용승인일자'] = gangeo_df.loc[gangeo_df['사용승인일자'].str.len() < 5, '사용승인일자'] + '-01-01'"
   ]
  },
  {
   "cell_type": "code",
   "execution_count": null,
   "metadata": {},
   "outputs": [
    {
     "data": {
      "text/plain": [
       "3159     199510\n",
       "3160     199510\n",
       "3293     199512\n",
       "17871    199410\n",
       "17995    199304\n",
       "17996    199304\n",
       "19455    200111\n",
       "26929    199406\n",
       "Name: 사용승인일자, dtype: object"
      ]
     },
     "execution_count": 103,
     "metadata": {},
     "output_type": "execute_result"
    }
   ],
   "source": [
    "gangeo_df.loc[gangeo_df['사용승인일자'].str.len() < 7, '사용승인일자']"
   ]
  },
  {
   "cell_type": "code",
   "execution_count": null,
   "metadata": {},
   "outputs": [],
   "source": [
    "gangeo_df.loc[gangeo_df['사용승인일자'].str.len() < 7, '사용승인일자'] = gangeo_df.loc[gangeo_df['사용승인일자'].str.len() < 7, '사용승인일자'].str.slice(0, 4) + '-' + gangeo_df.loc[gangeo_df['사용승인일자'].str.len() < 7, '사용승인일자'].str.slice(4) + '-01'"
   ]
  },
  {
   "cell_type": "code",
   "execution_count": null,
   "metadata": {},
   "outputs": [],
   "source": [
    "gangeo_df.loc[gangeo_df['사용승인일자'].str.len() < 8, '사용승인일자'] = '2004-10-04'"
   ]
  },
  {
   "cell_type": "code",
   "execution_count": null,
   "metadata": {},
   "outputs": [],
   "source": [
    "gangeo_df.loc[gangeo_df['사용승인일자'].str.contains('-00'), '사용승인일자'] = gangeo_df.loc[gangeo_df['사용승인일자'].str.contains('-00'), '사용승인일자'].str.slice(0,8) + '01'"
   ]
  },
  {
   "cell_type": "code",
   "execution_count": null,
   "metadata": {},
   "outputs": [],
   "source": [
    "gangeo_df['사용승인일자'] = pd.to_datetime(gangeo_df['사용승인일자'], format='%Y-%m-%d')"
   ]
  },
  {
   "cell_type": "code",
   "execution_count": null,
   "metadata": {},
   "outputs": [
    {
     "name": "stdout",
     "output_type": "stream",
     "text": [
      "<class 'pandas.core.frame.DataFrame'>\n",
      "RangeIndex: 28900 entries, 0 to 28899\n",
      "Data columns (total 11 columns):\n",
      " #   Column  Non-Null Count  Dtype         \n",
      "---  ------  --------------  -----         \n",
      " 0   법정동명    28900 non-null  object        \n",
      " 1   지번      28900 non-null  object        \n",
      " 2   용도명     28900 non-null  object        \n",
      " 3   구조명     28900 non-null  object        \n",
      " 4   면적      28900 non-null  float64       \n",
      " 5   사용승인일자  28900 non-null  datetime64[ns]\n",
      " 6   연면적     28900 non-null  float64       \n",
      " 7   대지면적    28900 non-null  float64       \n",
      " 8   높이      28900 non-null  float64       \n",
      " 9   건폐율     28900 non-null  float64       \n",
      " 10  용적율     28900 non-null  float64       \n",
      "dtypes: datetime64[ns](1), float64(6), object(4)\n",
      "memory usage: 2.4+ MB\n"
     ]
    }
   ],
   "source": [
    "gangeo_df.info()"
   ]
  },
  {
   "attachments": {},
   "cell_type": "markdown",
   "metadata": {},
   "source": [
    "# 파일 저장"
   ]
  },
  {
   "cell_type": "code",
   "execution_count": null,
   "metadata": {},
   "outputs": [],
   "source": [
    "folder_name = '건물'\n",
    "file_name = '강서구_GIS건물통합정보'\n",
    "\n",
    "gangeo_df.to_excel(f'./data/{folder_name}/{file_name}.xlsx', index=False, engine='openpyxl')"
   ]
  }
 ],
 "metadata": {
  "kernelspec": {
   "display_name": "aivle",
   "language": "python",
   "name": "aivle"
  },
  "language_info": {
   "codemirror_mode": {
    "name": "ipython",
    "version": 3
   },
   "file_extension": ".py",
   "mimetype": "text/x-python",
   "name": "python",
   "nbconvert_exporter": "python",
   "pygments_lexer": "ipython3",
   "version": "3.9.15"
  },
  "orig_nbformat": 4
 },
 "nbformat": 4,
 "nbformat_minor": 2
}
