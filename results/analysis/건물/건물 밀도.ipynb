{
 "cells": [
  {
   "cell_type": "markdown",
   "metadata": {},
   "source": [
    "# 모듈 불러오기"
   ]
  },
  {
   "cell_type": "markdown",
   "metadata": {},
   "source": [
    "#### 기본"
   ]
  },
  {
   "cell_type": "code",
   "execution_count": 251,
   "metadata": {},
   "outputs": [],
   "source": [
    "import numpy as np\n",
    "import pandas as pd\n",
    "import joblib"
   ]
  },
  {
   "cell_type": "code",
   "execution_count": 252,
   "metadata": {},
   "outputs": [],
   "source": [
    "# !conda install numpy \n",
    "# !conda install pandas\n",
    "# !conda install scikit-learn\n",
    "# !conda install scipy\n",
    "# !conda install tensorflow\n",
    "# !conda install matplotlib\n",
    "# !conda install seaborn\n",
    "\n",
    "# !pip install xgboost\n",
    "# !pip install lightgbm\n",
    "# !pip install catboost\n",
    "# !pip install ipywidgets\n",
    "# !jupyter nbextension enable --py widgetsnbextension\n",
    "# !pip install hyperopt\n",
    "# !pip install -U imbalanced-learn\n",
    "# !pip install missingno"
   ]
  },
  {
   "cell_type": "markdown",
   "metadata": {},
   "source": [
    "#### 전처리"
   ]
  },
  {
   "cell_type": "code",
   "execution_count": 253,
   "metadata": {},
   "outputs": [],
   "source": [
    "from sklearn.model_selection import train_test_split\n",
    "from sklearn.inspection import permutation_importance\n",
    "\n",
    "from sklearn import impute\n",
    "from sklearn.impute import KNNImputer\n",
    "from sklearn.experimental import enable_iterative_imputer"
   ]
  },
  {
   "cell_type": "markdown",
   "metadata": {},
   "source": [
    "#### 리샘플링"
   ]
  },
  {
   "cell_type": "code",
   "execution_count": 254,
   "metadata": {},
   "outputs": [],
   "source": [
    "from imblearn.over_sampling import (\n",
    "    RandomOverSampler, \n",
    "    ADASYN, \n",
    "    SMOTE\n",
    ")\n",
    "from imblearn.under_sampling import (\n",
    "    RandomUnderSampler, \n",
    "    TomekLinks, \n",
    "    CondensedNearestNeighbour, \n",
    "    OneSidedSelection, \n",
    "    EditedNearestNeighbours, \n",
    "    NeighbourhoodCleaningRule\n",
    ")"
   ]
  },
  {
   "cell_type": "markdown",
   "metadata": {},
   "source": [
    "#### 분석"
   ]
  },
  {
   "cell_type": "code",
   "execution_count": 255,
   "metadata": {},
   "outputs": [],
   "source": [
    "from scipy.stats import skew, kurtosis\n",
    "from scipy.stats import ttest_ind, f_oneway, pearsonr"
   ]
  },
  {
   "cell_type": "markdown",
   "metadata": {},
   "source": [
    "#### 회귀"
   ]
  },
  {
   "cell_type": "code",
   "execution_count": 256,
   "metadata": {},
   "outputs": [],
   "source": [
    "from sklearn.linear_model import LinearRegression as RL\n",
    "from sklearn.neighbors import KNeighborsRegressor as KNNR\n",
    "from sklearn.tree import DecisionTreeRegressor as DTR\n",
    "from sklearn.svm import SVR\n",
    "from sklearn.ensemble import RandomForestRegressor as RFR\n",
    "from xgboost import XGBRegressor as XGBR\n",
    "from lightgbm import LGBMRegressor as LGBMR\n",
    "from catboost import CatBoostRegressor as CBR\n",
    "\n",
    "from lightgbm import plot_importance as lgbm_plot_importance\n",
    "from xgboost import plot_importance as xgb_plot_importance\n",
    "from catboost import Pool\n",
    "\n",
    "from sklearn.metrics import mean_squared_error as mse\n",
    "from sklearn.metrics import r2_score"
   ]
  },
  {
   "cell_type": "markdown",
   "metadata": {},
   "source": [
    "#### 분류"
   ]
  },
  {
   "cell_type": "code",
   "execution_count": 257,
   "metadata": {},
   "outputs": [],
   "source": [
    "from sklearn.linear_model import LogisticRegression as LR\n",
    "from sklearn.neighbors import KNeighborsClassifier as KNNC\n",
    "from sklearn.tree import DecisionTreeClassifier as DTC\n",
    "from sklearn.svm import SVC\n",
    "from sklearn.ensemble import RandomForestClassifier as RFC\n",
    "from xgboost import XGBClassifier as XGBC\n",
    "from lightgbm import LGBMClassifier as LGBMC\n",
    "from catboost import CatBoostClassifier as CBC\n",
    "\n",
    "from sklearn.metrics import confusion_matrix as cmatrix\n",
    "from sklearn.metrics import classification_report as creport\n",
    "from sklearn.metrics import recall_score as recall\n",
    "from sklearn.metrics import accuracy_score as acc\n",
    "from sklearn.metrics import f1_score\n",
    "from sklearn.metrics import roc_auc_score\n",
    "from sklearn.metrics import make_scorer"
   ]
  },
  {
   "cell_type": "markdown",
   "metadata": {},
   "source": [
    "#### 교차검증"
   ]
  },
  {
   "cell_type": "code",
   "execution_count": 258,
   "metadata": {},
   "outputs": [],
   "source": [
    "from sklearn.tree import DecisionTreeClassifier\n",
    "from sklearn.model_selection import cross_val_score\n",
    "from sklearn.model_selection import GridSearchCV, RandomizedSearchCV\n",
    "from catboost import cv\n",
    "import hyperopt\n",
    "\n",
    "from sklearn.model_selection import (\n",
    "    StratifiedKFold, # 분류\n",
    "    KFold, # 회귀\n",
    "    # GroupKFold, \n",
    "    # RepeatedKFold, \n",
    "    # StratifiedGroupKFold, \n",
    "    # RepeatedStratifiedKFold\n",
    ")"
   ]
  },
  {
   "cell_type": "markdown",
   "metadata": {},
   "source": [
    "#### 시각화"
   ]
  },
  {
   "cell_type": "code",
   "execution_count": 259,
   "metadata": {},
   "outputs": [],
   "source": [
    "import matplotlib.pyplot as plt\n",
    "import seaborn as sns\n",
    "%matplotlib inline\n",
    "plt.rc('font', family='Malgun Gothic')\n",
    "sns.set(font=\"Malgun Gothic\",\n",
    "        rc={\"axes.unicode_minus\":False}, # 마이너스 부호 깨짐 현상 해결\n",
    "        style='darkgrid')  \n",
    "\n",
    "import warnings\n",
    "warnings.filterwarnings(action='ignore')\n",
    "%config InlineBackend.figure_format = 'retina'"
   ]
  },
  {
   "attachments": {},
   "cell_type": "markdown",
   "metadata": {},
   "source": [
    "# 건물 데이터 로드"
   ]
  },
  {
   "cell_type": "code",
   "execution_count": 260,
   "metadata": {},
   "outputs": [],
   "source": [
    "# folder_name = '건물'\n",
    "# file_name = 'GIS건물통합정보_fix'\n",
    "\n",
    "# df_all_origin = pd.read_excel(f'../../data/{folder_name}/{file_name}.xlsx', engine='openpyxl')"
   ]
  },
  {
   "cell_type": "code",
   "execution_count": 261,
   "metadata": {},
   "outputs": [],
   "source": [
    "folder_name = '건물'\n",
    "file_name = 'GIS건물통합정보_강서구'\n",
    "\n",
    "bd_df_origin = pd.read_excel(f'../../data/{folder_name}/{file_name}.xlsx', engine='openpyxl')"
   ]
  },
  {
   "cell_type": "code",
   "execution_count": 262,
   "metadata": {},
   "outputs": [],
   "source": [
    "bd_df = bd_df_origin.copy()"
   ]
  },
  {
   "attachments": {},
   "cell_type": "markdown",
   "metadata": {},
   "source": [
    "# 면적 데이터 로드"
   ]
  },
  {
   "cell_type": "code",
   "execution_count": 263,
   "metadata": {},
   "outputs": [],
   "source": [
    "folder_name = '건물'\n",
    "file_name = '강서구 행정동별 면적'\n",
    "\n",
    "area_df_origin = pd.read_csv(f'../../data/{folder_name}/{file_name}.csv')"
   ]
  },
  {
   "cell_type": "code",
   "execution_count": 264,
   "metadata": {},
   "outputs": [],
   "source": [
    "area_df = area_df_origin.copy()"
   ]
  },
  {
   "cell_type": "markdown",
   "metadata": {},
   "source": [
    "# 데이터 이해"
   ]
  },
  {
   "cell_type": "code",
   "execution_count": 265,
   "metadata": {},
   "outputs": [
    {
     "name": "stdout",
     "output_type": "stream",
     "text": [
      "<class 'pandas.core.frame.DataFrame'>\n",
      "RangeIndex: 28900 entries, 0 to 28899\n",
      "Data columns (total 12 columns):\n",
      " #   Column  Non-Null Count  Dtype         \n",
      "---  ------  --------------  -----         \n",
      " 0   법정동명    28900 non-null  object        \n",
      " 1   지번      28900 non-null  object        \n",
      " 2   용도명     28900 non-null  object        \n",
      " 3   구조명     28900 non-null  object        \n",
      " 4   면적      28900 non-null  float64       \n",
      " 5   사용승인일자  28900 non-null  datetime64[ns]\n",
      " 6   연면적     28900 non-null  float64       \n",
      " 7   대지면적    28900 non-null  float64       \n",
      " 8   높이      28900 non-null  float64       \n",
      " 9   건폐율     28900 non-null  float64       \n",
      " 10  용적율     28900 non-null  float64       \n",
      " 11  사용승인년도  28900 non-null  int64         \n",
      "dtypes: datetime64[ns](1), float64(6), int64(1), object(4)\n",
      "memory usage: 2.6+ MB\n"
     ]
    }
   ],
   "source": [
    "bd_df.info()"
   ]
  },
  {
   "cell_type": "code",
   "execution_count": 266,
   "metadata": {},
   "outputs": [
    {
     "data": {
      "text/plain": [
       "법정동명      0\n",
       "지번        0\n",
       "용도명       0\n",
       "구조명       0\n",
       "면적        0\n",
       "사용승인일자    0\n",
       "연면적       0\n",
       "대지면적      0\n",
       "높이        0\n",
       "건폐율       0\n",
       "용적율       0\n",
       "사용승인년도    0\n",
       "dtype: int64"
      ]
     },
     "execution_count": 266,
     "metadata": {},
     "output_type": "execute_result"
    }
   ],
   "source": [
    "bd_df.isna().sum()"
   ]
  },
  {
   "cell_type": "code",
   "execution_count": 267,
   "metadata": {},
   "outputs": [
    {
     "name": "stdout",
     "output_type": "stream",
     "text": [
      "<class 'pandas.core.frame.DataFrame'>\n",
      "RangeIndex: 20 entries, 0 to 19\n",
      "Data columns (total 2 columns):\n",
      " #   Column  Non-Null Count  Dtype  \n",
      "---  ------  --------------  -----  \n",
      " 0   행정동     20 non-null     object \n",
      " 1   면적 (㎢)  20 non-null     float64\n",
      "dtypes: float64(1), object(1)\n",
      "memory usage: 448.0+ bytes\n"
     ]
    }
   ],
   "source": [
    "area_df.info()"
   ]
  },
  {
   "cell_type": "code",
   "execution_count": 268,
   "metadata": {},
   "outputs": [
    {
     "data": {
      "text/plain": [
       "행정동       0\n",
       "면적 (㎢)    0\n",
       "dtype: int64"
      ]
     },
     "execution_count": 268,
     "metadata": {},
     "output_type": "execute_result"
    }
   ],
   "source": [
    "area_df.isna().sum()"
   ]
  },
  {
   "cell_type": "markdown",
   "metadata": {},
   "source": [
    "# 시각화 세팅, 함수"
   ]
  },
  {
   "cell_type": "code",
   "execution_count": 269,
   "metadata": {},
   "outputs": [],
   "source": [
    "figure_size = (18, 10)\n",
    "marker = 'o'\n",
    "color = 'black'\n",
    "title_size = 15"
   ]
  },
  {
   "cell_type": "code",
   "execution_count": 270,
   "metadata": {},
   "outputs": [],
   "source": [
    "def linegraph(df, title='제목 입력하기', rotation=0, path='./img/인구'):\n",
    "    plt.plot(df, marker=marker, color=color)\n",
    "    plt.xticks(rotation=rotation)\n",
    "    plt.title(title, size=title_size)\n",
    "    plt.tight_layout()\n",
    "    plt.savefig(f'{path}/{title}.png')\n",
    "    plt.show()"
   ]
  },
  {
   "attachments": {},
   "cell_type": "markdown",
   "metadata": {},
   "source": [
    "# 강서구 건물 밀도"
   ]
  },
  {
   "cell_type": "code",
   "execution_count": 275,
   "metadata": {},
   "outputs": [
    {
     "data": {
      "text/plain": [
       "행정동   면적 (㎢)\n",
       "가양1동  4.70      1\n",
       "가양2동  1.00      1\n",
       "화곡8동  0.53      1\n",
       "화곡6동  1.11      1\n",
       "화곡4동  0.82      1\n",
       "화곡3동  0.53      1\n",
       "화곡2동  0.45      1\n",
       "화곡1동  1.12      1\n",
       "우장산동  1.36      1\n",
       "염창동   1.74      1\n",
       "방화3동  2.55      1\n",
       "방화2동  6.41      1\n",
       "방화1동  1.48      1\n",
       "발산1동  2.94      1\n",
       "등촌3동  0.79      1\n",
       "등촌2동  0.92      1\n",
       "등촌1동  0.64      1\n",
       "공항동   10.87     1\n",
       "가양3동  0.50      1\n",
       "화곡본동  0.98      1\n",
       "dtype: int64"
      ]
     },
     "execution_count": 275,
     "metadata": {},
     "output_type": "execute_result"
    }
   ],
   "source": [
    "area_df.value_counts()"
   ]
  },
  {
   "cell_type": "code",
   "execution_count": 284,
   "metadata": {},
   "outputs": [],
   "source": [
    "area_data = {'염창동': 1.74, # 한강\n",
    "'마곡동': 4.70, # 한강\n",
    "'가양동': 1.00 + 0.99, # 한강\n",
    "'화곡동': np.round(1.11 + 1.12 + 0.47 + 0.51 + 0.82 + 1.11 + 0.53, 2),\n",
    "'등촌동': 0.59 + 0.92 + 0.79,\n",
    "'내발산동': 1.36,\n",
    "'외발산동': 2.9\t,\n",
    "'방화동': 4.74, # 한강\n",
    "'개화동': 4.79, # 한강\n",
    "}"
   ]
  },
  {
   "cell_type": "code",
   "execution_count": 285,
   "metadata": {},
   "outputs": [
    {
     "data": {
      "text/plain": [
       "{'염창동': 1.74,\n",
       " '마곡동': 4.7,\n",
       " '가양동': 1.99,\n",
       " '화곡동': 5.67,\n",
       " '등촌동': 2.3,\n",
       " '내발산동': 1.36,\n",
       " '외발산동': 2.9,\n",
       " '방화동': 4.74,\n",
       " '개화동': 4.79}"
      ]
     },
     "execution_count": 285,
     "metadata": {},
     "output_type": "execute_result"
    }
   ],
   "source": [
    "area_data"
   ]
  },
  {
   "cell_type": "code",
   "execution_count": 316,
   "metadata": {},
   "outputs": [
    {
     "data": {
      "text/plain": [
       "array([0, 1, 2, 3, 4, 5, 6, 7, 8])"
      ]
     },
     "execution_count": 316,
     "metadata": {},
     "output_type": "execute_result"
    }
   ],
   "source": [
    "np.arange(9)"
   ]
  },
  {
   "cell_type": "code",
   "execution_count": 319,
   "metadata": {},
   "outputs": [],
   "source": [
    "area_df = pd.DataFrame({'면적(㎢)': area_data.values(), '법정동명': area_data.keys()})"
   ]
  },
  {
   "cell_type": "code",
   "execution_count": 320,
   "metadata": {},
   "outputs": [
    {
     "data": {
      "text/html": [
       "<div>\n",
       "<style scoped>\n",
       "    .dataframe tbody tr th:only-of-type {\n",
       "        vertical-align: middle;\n",
       "    }\n",
       "\n",
       "    .dataframe tbody tr th {\n",
       "        vertical-align: top;\n",
       "    }\n",
       "\n",
       "    .dataframe thead th {\n",
       "        text-align: right;\n",
       "    }\n",
       "</style>\n",
       "<table border=\"1\" class=\"dataframe\">\n",
       "  <thead>\n",
       "    <tr style=\"text-align: right;\">\n",
       "      <th></th>\n",
       "      <th>면적(㎢)</th>\n",
       "      <th>법정동명</th>\n",
       "    </tr>\n",
       "  </thead>\n",
       "  <tbody>\n",
       "    <tr>\n",
       "      <th>0</th>\n",
       "      <td>1.74</td>\n",
       "      <td>염창동</td>\n",
       "    </tr>\n",
       "    <tr>\n",
       "      <th>1</th>\n",
       "      <td>4.70</td>\n",
       "      <td>마곡동</td>\n",
       "    </tr>\n",
       "    <tr>\n",
       "      <th>2</th>\n",
       "      <td>1.99</td>\n",
       "      <td>가양동</td>\n",
       "    </tr>\n",
       "    <tr>\n",
       "      <th>3</th>\n",
       "      <td>5.67</td>\n",
       "      <td>화곡동</td>\n",
       "    </tr>\n",
       "    <tr>\n",
       "      <th>4</th>\n",
       "      <td>2.30</td>\n",
       "      <td>등촌동</td>\n",
       "    </tr>\n",
       "    <tr>\n",
       "      <th>5</th>\n",
       "      <td>1.36</td>\n",
       "      <td>내발산동</td>\n",
       "    </tr>\n",
       "    <tr>\n",
       "      <th>6</th>\n",
       "      <td>2.90</td>\n",
       "      <td>외발산동</td>\n",
       "    </tr>\n",
       "    <tr>\n",
       "      <th>7</th>\n",
       "      <td>4.74</td>\n",
       "      <td>방화동</td>\n",
       "    </tr>\n",
       "    <tr>\n",
       "      <th>8</th>\n",
       "      <td>4.79</td>\n",
       "      <td>개화동</td>\n",
       "    </tr>\n",
       "  </tbody>\n",
       "</table>\n",
       "</div>"
      ],
      "text/plain": [
       "   면적(㎢)  법정동명\n",
       "0   1.74   염창동\n",
       "1   4.70   마곡동\n",
       "2   1.99   가양동\n",
       "3   5.67   화곡동\n",
       "4   2.30   등촌동\n",
       "5   1.36  내발산동\n",
       "6   2.90  외발산동\n",
       "7   4.74   방화동\n",
       "8   4.79   개화동"
      ]
     },
     "execution_count": 320,
     "metadata": {},
     "output_type": "execute_result"
    }
   ],
   "source": [
    "area_df"
   ]
  },
  {
   "cell_type": "code",
   "execution_count": 276,
   "metadata": {},
   "outputs": [
    {
     "data": {
      "text/plain": [
       "{'가양동',\n",
       " '개화동',\n",
       " '공항동',\n",
       " '과해동',\n",
       " '내발산동',\n",
       " '등촌동',\n",
       " '마곡동',\n",
       " '방화동',\n",
       " '염창동',\n",
       " '오곡동',\n",
       " '오쇠동',\n",
       " '외발산동',\n",
       " '화곡동'}"
      ]
     },
     "execution_count": 276,
     "metadata": {},
     "output_type": "execute_result"
    }
   ],
   "source": [
    "set(bd_df['법정동명'])"
   ]
  },
  {
   "cell_type": "code",
   "execution_count": 292,
   "metadata": {},
   "outputs": [
    {
     "data": {
      "text/html": [
       "<div>\n",
       "<style scoped>\n",
       "    .dataframe tbody tr th:only-of-type {\n",
       "        vertical-align: middle;\n",
       "    }\n",
       "\n",
       "    .dataframe tbody tr th {\n",
       "        vertical-align: top;\n",
       "    }\n",
       "\n",
       "    .dataframe thead th {\n",
       "        text-align: right;\n",
       "    }\n",
       "</style>\n",
       "<table border=\"1\" class=\"dataframe\">\n",
       "  <thead>\n",
       "    <tr style=\"text-align: right;\">\n",
       "      <th></th>\n",
       "      <th>법정동명</th>\n",
       "      <th>지번</th>\n",
       "      <th>용도명</th>\n",
       "      <th>구조명</th>\n",
       "      <th>면적</th>\n",
       "      <th>사용승인일자</th>\n",
       "      <th>연면적</th>\n",
       "      <th>대지면적</th>\n",
       "      <th>높이</th>\n",
       "      <th>건폐율</th>\n",
       "      <th>용적율</th>\n",
       "      <th>사용승인년도</th>\n",
       "    </tr>\n",
       "  </thead>\n",
       "  <tbody>\n",
       "    <tr>\n",
       "      <th>0</th>\n",
       "      <td>염창동</td>\n",
       "      <td>5-17</td>\n",
       "      <td>단독주택</td>\n",
       "      <td>블록구조</td>\n",
       "      <td>29.76</td>\n",
       "      <td>1900-01-01</td>\n",
       "      <td>29.76</td>\n",
       "      <td>0.0</td>\n",
       "      <td>0.0</td>\n",
       "      <td>0.0</td>\n",
       "      <td>0.0</td>\n",
       "      <td>1900</td>\n",
       "    </tr>\n",
       "  </tbody>\n",
       "</table>\n",
       "</div>"
      ],
      "text/plain": [
       "  법정동명    지번   용도명   구조명     면적     사용승인일자    연면적  대지면적   높이  건폐율  용적율  사용승인년도\n",
       "0  염창동  5-17  단독주택  블록구조  29.76 1900-01-01  29.76   0.0  0.0  0.0  0.0    1900"
      ]
     },
     "execution_count": 292,
     "metadata": {},
     "output_type": "execute_result"
    }
   ],
   "source": [
    "bd_df.head(1)"
   ]
  },
  {
   "cell_type": "code",
   "execution_count": 295,
   "metadata": {},
   "outputs": [],
   "source": [
    "bd_area_df = bd_df.groupby('법정동명', as_index=False)['면적'].sum()"
   ]
  },
  {
   "cell_type": "code",
   "execution_count": 311,
   "metadata": {},
   "outputs": [
    {
     "data": {
      "text/html": [
       "<div>\n",
       "<style scoped>\n",
       "    .dataframe tbody tr th:only-of-type {\n",
       "        vertical-align: middle;\n",
       "    }\n",
       "\n",
       "    .dataframe tbody tr th {\n",
       "        vertical-align: top;\n",
       "    }\n",
       "\n",
       "    .dataframe thead th {\n",
       "        text-align: right;\n",
       "    }\n",
       "</style>\n",
       "<table border=\"1\" class=\"dataframe\">\n",
       "  <thead>\n",
       "    <tr style=\"text-align: right;\">\n",
       "      <th></th>\n",
       "      <th>법정동명</th>\n",
       "      <th>면적</th>\n",
       "    </tr>\n",
       "  </thead>\n",
       "  <tbody>\n",
       "    <tr>\n",
       "      <th>0</th>\n",
       "      <td>가양동</td>\n",
       "      <td>6.106151e+05</td>\n",
       "    </tr>\n",
       "    <tr>\n",
       "      <th>1</th>\n",
       "      <td>개화동</td>\n",
       "      <td>1.038572e+05</td>\n",
       "    </tr>\n",
       "    <tr>\n",
       "      <th>2</th>\n",
       "      <td>공항동</td>\n",
       "      <td>4.208430e+05</td>\n",
       "    </tr>\n",
       "    <tr>\n",
       "      <th>3</th>\n",
       "      <td>과해동</td>\n",
       "      <td>2.271182e+04</td>\n",
       "    </tr>\n",
       "    <tr>\n",
       "      <th>4</th>\n",
       "      <td>내발산동</td>\n",
       "      <td>3.192268e+05</td>\n",
       "    </tr>\n",
       "    <tr>\n",
       "      <th>5</th>\n",
       "      <td>등촌동</td>\n",
       "      <td>8.367990e+05</td>\n",
       "    </tr>\n",
       "    <tr>\n",
       "      <th>6</th>\n",
       "      <td>마곡동</td>\n",
       "      <td>7.372986e+04</td>\n",
       "    </tr>\n",
       "    <tr>\n",
       "      <th>7</th>\n",
       "      <td>방화동</td>\n",
       "      <td>7.692420e+05</td>\n",
       "    </tr>\n",
       "    <tr>\n",
       "      <th>8</th>\n",
       "      <td>염창동</td>\n",
       "      <td>2.633516e+05</td>\n",
       "    </tr>\n",
       "    <tr>\n",
       "      <th>9</th>\n",
       "      <td>오곡동</td>\n",
       "      <td>3.396865e+04</td>\n",
       "    </tr>\n",
       "    <tr>\n",
       "      <th>10</th>\n",
       "      <td>오쇠동</td>\n",
       "      <td>1.616717e+04</td>\n",
       "    </tr>\n",
       "    <tr>\n",
       "      <th>11</th>\n",
       "      <td>외발산동</td>\n",
       "      <td>1.168695e+05</td>\n",
       "    </tr>\n",
       "    <tr>\n",
       "      <th>12</th>\n",
       "      <td>화곡동</td>\n",
       "      <td>2.429843e+06</td>\n",
       "    </tr>\n",
       "  </tbody>\n",
       "</table>\n",
       "</div>"
      ],
      "text/plain": [
       "    법정동명            면적\n",
       "0    가양동  6.106151e+05\n",
       "1    개화동  1.038572e+05\n",
       "2    공항동  4.208430e+05\n",
       "3    과해동  2.271182e+04\n",
       "4   내발산동  3.192268e+05\n",
       "5    등촌동  8.367990e+05\n",
       "6    마곡동  7.372986e+04\n",
       "7    방화동  7.692420e+05\n",
       "8    염창동  2.633516e+05\n",
       "9    오곡동  3.396865e+04\n",
       "10   오쇠동  1.616717e+04\n",
       "11  외발산동  1.168695e+05\n",
       "12   화곡동  2.429843e+06"
      ]
     },
     "execution_count": 311,
     "metadata": {},
     "output_type": "execute_result"
    }
   ],
   "source": [
    "bd_area_df"
   ]
  },
  {
   "cell_type": "code",
   "execution_count": 322,
   "metadata": {},
   "outputs": [
    {
     "data": {
      "text/html": [
       "<div>\n",
       "<style scoped>\n",
       "    .dataframe tbody tr th:only-of-type {\n",
       "        vertical-align: middle;\n",
       "    }\n",
       "\n",
       "    .dataframe tbody tr th {\n",
       "        vertical-align: top;\n",
       "    }\n",
       "\n",
       "    .dataframe thead th {\n",
       "        text-align: right;\n",
       "    }\n",
       "</style>\n",
       "<table border=\"1\" class=\"dataframe\">\n",
       "  <thead>\n",
       "    <tr style=\"text-align: right;\">\n",
       "      <th></th>\n",
       "      <th>법정동명</th>\n",
       "      <th>면적</th>\n",
       "      <th>면적(㎢)</th>\n",
       "    </tr>\n",
       "  </thead>\n",
       "  <tbody>\n",
       "    <tr>\n",
       "      <th>0</th>\n",
       "      <td>가양동</td>\n",
       "      <td>6.106151e+05</td>\n",
       "      <td>1.99</td>\n",
       "    </tr>\n",
       "    <tr>\n",
       "      <th>1</th>\n",
       "      <td>개화동</td>\n",
       "      <td>1.038572e+05</td>\n",
       "      <td>4.79</td>\n",
       "    </tr>\n",
       "    <tr>\n",
       "      <th>2</th>\n",
       "      <td>내발산동</td>\n",
       "      <td>3.192268e+05</td>\n",
       "      <td>1.36</td>\n",
       "    </tr>\n",
       "    <tr>\n",
       "      <th>3</th>\n",
       "      <td>등촌동</td>\n",
       "      <td>8.367990e+05</td>\n",
       "      <td>2.30</td>\n",
       "    </tr>\n",
       "    <tr>\n",
       "      <th>4</th>\n",
       "      <td>마곡동</td>\n",
       "      <td>7.372986e+04</td>\n",
       "      <td>4.70</td>\n",
       "    </tr>\n",
       "    <tr>\n",
       "      <th>5</th>\n",
       "      <td>방화동</td>\n",
       "      <td>7.692420e+05</td>\n",
       "      <td>4.74</td>\n",
       "    </tr>\n",
       "    <tr>\n",
       "      <th>6</th>\n",
       "      <td>염창동</td>\n",
       "      <td>2.633516e+05</td>\n",
       "      <td>1.74</td>\n",
       "    </tr>\n",
       "    <tr>\n",
       "      <th>7</th>\n",
       "      <td>외발산동</td>\n",
       "      <td>1.168695e+05</td>\n",
       "      <td>2.90</td>\n",
       "    </tr>\n",
       "    <tr>\n",
       "      <th>8</th>\n",
       "      <td>화곡동</td>\n",
       "      <td>2.429843e+06</td>\n",
       "      <td>5.67</td>\n",
       "    </tr>\n",
       "  </tbody>\n",
       "</table>\n",
       "</div>"
      ],
      "text/plain": [
       "   법정동명            면적  면적(㎢)\n",
       "0   가양동  6.106151e+05   1.99\n",
       "1   개화동  1.038572e+05   4.79\n",
       "2  내발산동  3.192268e+05   1.36\n",
       "3   등촌동  8.367990e+05   2.30\n",
       "4   마곡동  7.372986e+04   4.70\n",
       "5   방화동  7.692420e+05   4.74\n",
       "6   염창동  2.633516e+05   1.74\n",
       "7  외발산동  1.168695e+05   2.90\n",
       "8   화곡동  2.429843e+06   5.67"
      ]
     },
     "execution_count": 322,
     "metadata": {},
     "output_type": "execute_result"
    }
   ],
   "source": [
    "merge_df = pd.merge(bd_area_df, area_df, how='inner', on='법정동명')\n",
    "merge_df"
   ]
  },
  {
   "cell_type": "code",
   "execution_count": 324,
   "metadata": {},
   "outputs": [
    {
     "data": {
      "text/plain": [
       "0    30.684176\n",
       "1     2.168209\n",
       "2    23.472559\n",
       "3    36.382565\n",
       "4     1.568721\n",
       "5    16.228734\n",
       "6    15.135149\n",
       "7     4.029983\n",
       "8    42.854381\n",
       "dtype: float64"
      ]
     },
     "execution_count": 324,
     "metadata": {},
     "output_type": "execute_result"
    }
   ],
   "source": [
    "np.round(merge_df['면적'],1) * 0.000001 / merge_df['면적(㎢)'] * 100"
   ]
  },
  {
   "cell_type": "code",
   "execution_count": 325,
   "metadata": {},
   "outputs": [],
   "source": [
    "merge_df['건물면적비율'] = np.round(merge_df['면적'],1) * 0.000001 / merge_df['면적(㎢)'] * 100"
   ]
  },
  {
   "cell_type": "code",
   "execution_count": 326,
   "metadata": {},
   "outputs": [
    {
     "data": {
      "image/png": "[encoded data removed]",
      "text/plain": [
       "<Figure size 1800x1000 with 1 Axes>"
      ]
     },
     "metadata": {
      "image/png": {
       "height": 881,
       "width": 1445
      }
     },
     "output_type": "display_data"
    }
   ],
   "source": [
    "title = f'강서구 동별 건물 밀도 비율 2022'\n",
    "\n",
    "plt.figure(figsize=figure_size)\n",
    "plt.bar(merge_df['법정동명'], merge_df['건물면적비율'])\n",
    "plt.xticks(rotation=45)\n",
    "plt.title(title, size=title_size)\n",
    "plt.savefig(f'../../img/건물/동별 건물 밀도 비율/{title}.png')\n",
    "plt.show()"
   ]
  },
  {
   "cell_type": "code",
   "execution_count": null,
   "metadata": {},
   "outputs": [],
   "source": []
  },
  {
   "attachments": {},
   "cell_type": "markdown",
   "metadata": {},
   "source": [
    "# 동별 건물 밀도"
   ]
  },
  {
   "cell_type": "code",
   "execution_count": null,
   "metadata": {},
   "outputs": [],
   "source": []
  },
  {
   "cell_type": "code",
   "execution_count": null,
   "metadata": {},
   "outputs": [],
   "source": [
    "tmp_s = gangseo['건물용도명'].value_counts().loc[gangseo['건물용도명'].value_counts() > 200]\n",
    "tmp_df = pd.DataFrame({'건물용도명':tmp_s.index, '개수': tmp_s.values})\n",
    "title = '강서구 건물용도 개수 2022'\n",
    "\n",
    "plt.figure(figsize=figure_size)\n",
    "plt.bar(tmp_df['건물용도명'], tmp_df['개수'])\n",
    "plt.xticks(rotation=45)\n",
    "plt.title(title, size=title_size)\n",
    "plt.savefig(f'../../img/건물/동별 건물 용도/{title}.png')\n",
    "plt.show()"
   ]
  }
 ],
 "metadata": {
  "kernelspec": {
   "display_name": "aivle",
   "language": "python",
   "name": "aivle"
  },
  "language_info": {
   "codemirror_mode": {
    "name": "ipython",
    "version": 3
   },
   "file_extension": ".py",
   "mimetype": "text/x-python",
   "name": "python",
   "nbconvert_exporter": "python",
   "pygments_lexer": "ipython3",
   "version": "3.9.15"
  },
  "orig_nbformat": 4
 },
 "nbformat": 4,
 "nbformat_minor": 2
}
