{
 "cells": [
  {
   "cell_type": "code",
   "execution_count": 1,
   "metadata": {},
   "outputs": [],
   "source": [
    "import pandas as pd\n",
    "import numpy as np"
   ]
  },
  {
   "cell_type": "code",
   "execution_count": 2,
   "metadata": {},
   "outputs": [],
   "source": [
    "df = pd.read_csv('../../data/경사도/최종_공원_100m_버퍼_경사도.csv')"
   ]
  },
  {
   "cell_type": "code",
   "execution_count": 3,
   "metadata": {},
   "outputs": [
    {
     "data": {
      "text/html": [
       "<div>\n",
       "<style scoped>\n",
       "    .dataframe tbody tr th:only-of-type {\n",
       "        vertical-align: middle;\n",
       "    }\n",
       "\n",
       "    .dataframe tbody tr th {\n",
       "        vertical-align: top;\n",
       "    }\n",
       "\n",
       "    .dataframe thead th {\n",
       "        text-align: right;\n",
       "    }\n",
       "</style>\n",
       "<table border=\"1\" class=\"dataframe\">\n",
       "  <thead>\n",
       "    <tr style=\"text-align: right;\">\n",
       "      <th></th>\n",
       "      <th>fid</th>\n",
       "      <th>DN</th>\n",
       "      <th>area</th>\n",
       "      <th>fid_2</th>\n",
       "      <th>SIG_CD</th>\n",
       "      <th>KOR_PAR_NM</th>\n",
       "      <th>PARK_SN</th>\n",
       "      <th>면적(m^2</th>\n",
       "      <th>x</th>\n",
       "      <th>y</th>\n",
       "      <th>ADM_DR_NM</th>\n",
       "    </tr>\n",
       "  </thead>\n",
       "  <tbody>\n",
       "    <tr>\n",
       "      <th>0</th>\n",
       "      <td>50424</td>\n",
       "      <td>2</td>\n",
       "      <td>100</td>\n",
       "      <td>12841</td>\n",
       "      <td>11500</td>\n",
       "      <td>부석공원</td>\n",
       "      <td>88.0</td>\n",
       "      <td>1137</td>\n",
       "      <td>126.798879</td>\n",
       "      <td>37.582895</td>\n",
       "      <td>방화2동</td>\n",
       "    </tr>\n",
       "    <tr>\n",
       "      <th>1</th>\n",
       "      <td>50425</td>\n",
       "      <td>7</td>\n",
       "      <td>100</td>\n",
       "      <td>12841</td>\n",
       "      <td>11500</td>\n",
       "      <td>부석공원</td>\n",
       "      <td>88.0</td>\n",
       "      <td>1137</td>\n",
       "      <td>126.798879</td>\n",
       "      <td>37.582895</td>\n",
       "      <td>방화2동</td>\n",
       "    </tr>\n",
       "    <tr>\n",
       "      <th>2</th>\n",
       "      <td>50426</td>\n",
       "      <td>12</td>\n",
       "      <td>400</td>\n",
       "      <td>12841</td>\n",
       "      <td>11500</td>\n",
       "      <td>부석공원</td>\n",
       "      <td>88.0</td>\n",
       "      <td>1137</td>\n",
       "      <td>126.798879</td>\n",
       "      <td>37.582895</td>\n",
       "      <td>방화2동</td>\n",
       "    </tr>\n",
       "    <tr>\n",
       "      <th>3</th>\n",
       "      <td>50645</td>\n",
       "      <td>3</td>\n",
       "      <td>100</td>\n",
       "      <td>12841</td>\n",
       "      <td>11500</td>\n",
       "      <td>부석공원</td>\n",
       "      <td>88.0</td>\n",
       "      <td>1137</td>\n",
       "      <td>126.798879</td>\n",
       "      <td>37.582895</td>\n",
       "      <td>방화2동</td>\n",
       "    </tr>\n",
       "    <tr>\n",
       "      <th>4</th>\n",
       "      <td>50646</td>\n",
       "      <td>8</td>\n",
       "      <td>100</td>\n",
       "      <td>12841</td>\n",
       "      <td>11500</td>\n",
       "      <td>부석공원</td>\n",
       "      <td>88.0</td>\n",
       "      <td>1137</td>\n",
       "      <td>126.798879</td>\n",
       "      <td>37.582895</td>\n",
       "      <td>방화2동</td>\n",
       "    </tr>\n",
       "  </tbody>\n",
       "</table>\n",
       "</div>"
      ],
      "text/plain": [
       "     fid  DN  area  fid_2  SIG_CD KOR_PAR_NM  PARK_SN  면적(m^2           x  \\\n",
       "0  50424   2   100  12841   11500       부석공원     88.0    1137  126.798879   \n",
       "1  50425   7   100  12841   11500       부석공원     88.0    1137  126.798879   \n",
       "2  50426  12   400  12841   11500       부석공원     88.0    1137  126.798879   \n",
       "3  50645   3   100  12841   11500       부석공원     88.0    1137  126.798879   \n",
       "4  50646   8   100  12841   11500       부석공원     88.0    1137  126.798879   \n",
       "\n",
       "           y ADM_DR_NM  \n",
       "0  37.582895      방화2동  \n",
       "1  37.582895      방화2동  \n",
       "2  37.582895      방화2동  \n",
       "3  37.582895      방화2동  \n",
       "4  37.582895      방화2동  "
      ]
     },
     "execution_count": 3,
     "metadata": {},
     "output_type": "execute_result"
    }
   ],
   "source": [
    "df.head()"
   ]
  },
  {
   "cell_type": "code",
   "execution_count": 24,
   "metadata": {},
   "outputs": [
    {
     "data": {
      "text/html": [
       "<div>\n",
       "<style scoped>\n",
       "    .dataframe tbody tr th:only-of-type {\n",
       "        vertical-align: middle;\n",
       "    }\n",
       "\n",
       "    .dataframe tbody tr th {\n",
       "        vertical-align: top;\n",
       "    }\n",
       "\n",
       "    .dataframe thead th {\n",
       "        text-align: right;\n",
       "    }\n",
       "</style>\n",
       "<table border=\"1\" class=\"dataframe\">\n",
       "  <thead>\n",
       "    <tr style=\"text-align: right;\">\n",
       "      <th></th>\n",
       "      <th>PARK_SN</th>\n",
       "      <th>DN</th>\n",
       "    </tr>\n",
       "  </thead>\n",
       "  <tbody>\n",
       "    <tr>\n",
       "      <th>0</th>\n",
       "      <td>1.0</td>\n",
       "      <td>1.000000</td>\n",
       "    </tr>\n",
       "    <tr>\n",
       "      <th>1</th>\n",
       "      <td>2.0</td>\n",
       "      <td>1.000000</td>\n",
       "    </tr>\n",
       "    <tr>\n",
       "      <th>2</th>\n",
       "      <td>3.0</td>\n",
       "      <td>0.500000</td>\n",
       "    </tr>\n",
       "    <tr>\n",
       "      <th>3</th>\n",
       "      <td>4.0</td>\n",
       "      <td>1.833333</td>\n",
       "    </tr>\n",
       "    <tr>\n",
       "      <th>4</th>\n",
       "      <td>5.0</td>\n",
       "      <td>0.500000</td>\n",
       "    </tr>\n",
       "  </tbody>\n",
       "</table>\n",
       "</div>"
      ],
      "text/plain": [
       "   PARK_SN        DN\n",
       "0      1.0  1.000000\n",
       "1      2.0  1.000000\n",
       "2      3.0  0.500000\n",
       "3      4.0  1.833333\n",
       "4      5.0  0.500000"
      ]
     },
     "execution_count": 24,
     "metadata": {},
     "output_type": "execute_result"
    }
   ],
   "source": [
    "df_elevation = df.groupby('PARK_SN', as_index=False)['DN'].mean()\n",
    "df_elevation.head()"
   ]
  },
  {
   "cell_type": "code",
   "execution_count": 23,
   "metadata": {},
   "outputs": [
    {
     "data": {
      "text/plain": [
       "PARK_SN  DN       \n",
       "1.0      1.000000     1\n",
       "91.0     1.000000     1\n",
       "87.0     1.250000     1\n",
       "85.0     0.000000     1\n",
       "84.0     0.000000     1\n",
       "                     ..\n",
       "35.0     5.360656     1\n",
       "34.0     11.516779    1\n",
       "33.0     1.222222     1\n",
       "32.0     6.283465     1\n",
       "138.0    0.500000     1\n",
       "Length: 106, dtype: int64"
      ]
     },
     "execution_count": 23,
     "metadata": {},
     "output_type": "execute_result"
    }
   ],
   "source": [
    "df.groupby('PARK_SN', as_index=False)['DN'].mean().value_counts()"
   ]
  },
  {
   "cell_type": "code",
   "execution_count": 27,
   "metadata": {},
   "outputs": [],
   "source": [
    "df_elevation['PARK_SN'] = df_elevation['PARK_SN'].astype(int)"
   ]
  },
  {
   "cell_type": "code",
   "execution_count": 30,
   "metadata": {},
   "outputs": [
    {
     "data": {
      "text/plain": [
       "0      1.00\n",
       "1      1.00\n",
       "2      0.50\n",
       "3      1.83\n",
       "4      0.50\n",
       "       ... \n",
       "101    2.00\n",
       "102    0.00\n",
       "103    0.00\n",
       "104    0.00\n",
       "105    0.50\n",
       "Name: DN, Length: 106, dtype: float64"
      ]
     },
     "execution_count": 30,
     "metadata": {},
     "output_type": "execute_result"
    }
   ],
   "source": [
    "df_elevation['DN'] = np.round(df_elevation['DN'], 2)\n",
    "df_elevation['DN']"
   ]
  },
  {
   "cell_type": "code",
   "execution_count": 31,
   "metadata": {},
   "outputs": [
    {
     "data": {
      "text/html": [
       "<div>\n",
       "<style scoped>\n",
       "    .dataframe tbody tr th:only-of-type {\n",
       "        vertical-align: middle;\n",
       "    }\n",
       "\n",
       "    .dataframe tbody tr th {\n",
       "        vertical-align: top;\n",
       "    }\n",
       "\n",
       "    .dataframe thead th {\n",
       "        text-align: right;\n",
       "    }\n",
       "</style>\n",
       "<table border=\"1\" class=\"dataframe\">\n",
       "  <thead>\n",
       "    <tr style=\"text-align: right;\">\n",
       "      <th></th>\n",
       "      <th>PARK_SN</th>\n",
       "      <th>DN</th>\n",
       "    </tr>\n",
       "  </thead>\n",
       "  <tbody>\n",
       "    <tr>\n",
       "      <th>0</th>\n",
       "      <td>1</td>\n",
       "      <td>1.00</td>\n",
       "    </tr>\n",
       "    <tr>\n",
       "      <th>1</th>\n",
       "      <td>2</td>\n",
       "      <td>1.00</td>\n",
       "    </tr>\n",
       "    <tr>\n",
       "      <th>2</th>\n",
       "      <td>3</td>\n",
       "      <td>0.50</td>\n",
       "    </tr>\n",
       "    <tr>\n",
       "      <th>3</th>\n",
       "      <td>4</td>\n",
       "      <td>1.83</td>\n",
       "    </tr>\n",
       "    <tr>\n",
       "      <th>4</th>\n",
       "      <td>5</td>\n",
       "      <td>0.50</td>\n",
       "    </tr>\n",
       "    <tr>\n",
       "      <th>...</th>\n",
       "      <td>...</td>\n",
       "      <td>...</td>\n",
       "    </tr>\n",
       "    <tr>\n",
       "      <th>101</th>\n",
       "      <td>133</td>\n",
       "      <td>2.00</td>\n",
       "    </tr>\n",
       "    <tr>\n",
       "      <th>102</th>\n",
       "      <td>134</td>\n",
       "      <td>0.00</td>\n",
       "    </tr>\n",
       "    <tr>\n",
       "      <th>103</th>\n",
       "      <td>135</td>\n",
       "      <td>0.00</td>\n",
       "    </tr>\n",
       "    <tr>\n",
       "      <th>104</th>\n",
       "      <td>137</td>\n",
       "      <td>0.00</td>\n",
       "    </tr>\n",
       "    <tr>\n",
       "      <th>105</th>\n",
       "      <td>138</td>\n",
       "      <td>0.50</td>\n",
       "    </tr>\n",
       "  </tbody>\n",
       "</table>\n",
       "<p>106 rows × 2 columns</p>\n",
       "</div>"
      ],
      "text/plain": [
       "     PARK_SN    DN\n",
       "0          1  1.00\n",
       "1          2  1.00\n",
       "2          3  0.50\n",
       "3          4  1.83\n",
       "4          5  0.50\n",
       "..       ...   ...\n",
       "101      133  2.00\n",
       "102      134  0.00\n",
       "103      135  0.00\n",
       "104      137  0.00\n",
       "105      138  0.50\n",
       "\n",
       "[106 rows x 2 columns]"
      ]
     },
     "execution_count": 31,
     "metadata": {},
     "output_type": "execute_result"
    }
   ],
   "source": [
    "df_elevation"
   ]
  },
  {
   "cell_type": "code",
   "execution_count": 32,
   "metadata": {},
   "outputs": [],
   "source": [
    "df_elevation.to_csv('../../data/경사도/최종_공원_경사도_fix.csv', encoding='euc-kr', index=False)"
   ]
  }
 ],
 "metadata": {
  "kernelspec": {
   "display_name": "aivle",
   "language": "python",
   "name": "aivle"
  },
  "language_info": {
   "codemirror_mode": {
    "name": "ipython",
    "version": 3
   },
   "file_extension": ".py",
   "mimetype": "text/x-python",
   "name": "python",
   "nbconvert_exporter": "python",
   "pygments_lexer": "ipython3",
   "version": "3.9.15"
  },
  "orig_nbformat": 4
 },
 "nbformat": 4,
 "nbformat_minor": 2
}
